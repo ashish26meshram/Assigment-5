{
 "cells": [
  {
   "cell_type": "markdown",
   "id": "b1dd8cd5",
   "metadata": {},
   "source": [
    "# Challenge 1"
   ]
  },
  {
   "cell_type": "code",
   "execution_count": 1,
   "id": "9ec96124",
   "metadata": {},
   "outputs": [
    {
     "data": {
      "text/plain": [
       "35"
      ]
     },
     "execution_count": 1,
     "metadata": {},
     "output_type": "execute_result"
    }
   ],
   "source": [
    "class Point:\n",
    "\n",
    "    def __init__(self,x,y,z):\n",
    "        self.x = x\n",
    "        self.y = y\n",
    "        self.z = z\n",
    "\n",
    "    def sqSum(self):\n",
    "        return ((self.x*self.x)+(self.y*self.y)+(self.z*self.z))\n",
    "    \n",
    "a=Point(1,3,5)\n",
    "a.sqSum()"
   ]
  },
  {
   "cell_type": "markdown",
   "id": "0c0339ef",
   "metadata": {},
   "source": [
    "# Challenge 2"
   ]
  },
  {
   "cell_type": "code",
   "execution_count": 2,
   "id": "bcaa1be2",
   "metadata": {},
   "outputs": [
    {
     "name": "stdout",
     "output_type": "stream",
     "text": [
      "104\n",
      "84\n",
      "940\n",
      "9.4\n"
     ]
    }
   ],
   "source": [
    "class Calculator:\n",
    "\n",
    "    def __init__(self,num1,num2):\n",
    "        self.num1=num1\n",
    "        self.num2=num2\n",
    "    \n",
    "    def add(self):\n",
    "        return (self.num1+self.num2)\n",
    "    \n",
    "    def subtract(self):\n",
    "        return (self.num2-self.num1)\n",
    "    \n",
    "    def multiply(self):\n",
    "         return (self.num1*self.num2)\n",
    "        \n",
    "    def divide(self):\n",
    "        return (self.num2/self.num1)\n",
    "    \n",
    "obj=Calculator(10, 94)\n",
    "print(obj.add())\n",
    "print(obj.subtract())\n",
    "print(obj.multiply())\n",
    "print(obj.divide())"
   ]
  },
  {
   "cell_type": "markdown",
   "id": "e6883cea",
   "metadata": {},
   "source": [
    "# Challenge 3"
   ]
  },
  {
   "cell_type": "code",
   "execution_count": 3,
   "id": "2485ba43",
   "metadata": {},
   "outputs": [
    {
     "name": "stdout",
     "output_type": "stream",
     "text": [
      "student name is amit\n",
      "student RollNumber is 45\n"
     ]
    }
   ],
   "source": [
    "class Student:\n",
    "    __name=None\n",
    "    __RollNumber=None\n",
    "\n",
    "    def setName(self,name):\n",
    "        self.__name = name\n",
    "    \n",
    "    def getName(self):\n",
    "        return self.__name\n",
    "    \n",
    "    def setRollNumber(self,RollNumber):\n",
    "        self.__RollNumber = RollNumber\n",
    "    \n",
    "    def getRollNumber(self):\n",
    "        return self.__RollNumber\n",
    "    \n",
    "x=Student()\n",
    "x.setName(\"amit\")\n",
    "x.setRollNumber(45)\n",
    "print(\"student name is\",x.getName())\n",
    "print(\"student RollNumber is\",x.getRollNumber())"
   ]
  },
  {
   "cell_type": "markdown",
   "id": "16bebb1d",
   "metadata": {},
   "source": [
    "# Challenge 4:"
   ]
  },
  {
   "cell_type": "code",
   "execution_count": 4,
   "id": "69ee72ed",
   "metadata": {},
   "outputs": [
    {
     "name": "stdout",
     "output_type": "stream",
     "text": [
      "Initial Balance: 5000\n",
      "Interest on current balance: 250.0\n"
     ]
    }
   ],
   "source": [
    "class Account: \n",
    "    def __init__(self, title=None, balance=0):\n",
    "        self.title = title\n",
    "        self.balance = balance\n",
    "        \n",
    "    def withdrawal(self, amount):\n",
    "        self.balance = self.balance - amount\n",
    "    \n",
    "    def deposit(self, amount):\n",
    "        self.balance = self.balance + amount\n",
    "    \n",
    "    def getBalance(self):\n",
    "        return self.balance\n",
    "\n",
    "class SavingsAccount(Account):\n",
    "    def __init__(self, title=None, balance=0, interestRate=0):\n",
    "        super().__init__(title, balance)\n",
    "        self.interestRate = interestRate\n",
    "    \n",
    "    def interestAmount(self):\n",
    "        return (self.balance * self.interestRate / 100)\n",
    "\n",
    "\n",
    "obj1 = SavingsAccount(\"Ashish\", 5000)\n",
    "print(\"Initial Balance:\", obj1.getBalance())\n",
    "\n",
    "obj2 = SavingsAccount(\"Ashish\", 5000, 5)\n",
    "print(\"Interest on current balance:\", obj2.interestAmount())"
   ]
  },
  {
   "cell_type": "markdown",
   "id": "0c8e9b51",
   "metadata": {},
   "source": [
    "# Challenge 5"
   ]
  },
  {
   "cell_type": "code",
   "execution_count": 5,
   "id": "6ce6d591",
   "metadata": {},
   "outputs": [
    {
     "name": "stdout",
     "output_type": "stream",
     "text": [
      "Initial Balance: 2000\n",
      "Balance after deposit: 2500\n"
     ]
    }
   ],
   "source": [
    "class Account: \n",
    "    def __init__(self, title=None, balance=0):\n",
    "        self.title = title\n",
    "        self.balance = balance\n",
    "    \n",
    "    def deposit(self, amount):\n",
    "        self.balance = self.balance + amount\n",
    "    \n",
    "    def getBalance(self):\n",
    "        return self.balance\n",
    "\n",
    "\n",
    "obj1 = SavingsAccount(\"Ashish\", 2000, 5)\n",
    "print(\"Initial Balance:\", obj1.getBalance())\n",
    "obj1.deposit(500)\n",
    "print(\"Balance after deposit:\", obj1.getBalance())"
   ]
  },
  {
   "cell_type": "code",
   "execution_count": 6,
   "id": "b7005cb1",
   "metadata": {},
   "outputs": [
    {
     "name": "stdout",
     "output_type": "stream",
     "text": [
      "Initial Balance: 2000\n",
      "Balance after withdrawal: 1500\n"
     ]
    }
   ],
   "source": [
    "   def withdrawal(self, amount):\n",
    "        self.balance = self.balance - amount\n",
    "        \n",
    "obj1 = SavingsAccount(\"Ashish\", 2000, 5)\n",
    "print(\"Initial Balance:\", obj1.getBalance())\n",
    "obj1.withdrawal(500)\n",
    "print(\"Balance after withdrawal:\", obj1.getBalance())"
   ]
  },
  {
   "cell_type": "code",
   "execution_count": 7,
   "id": "ac288a9a",
   "metadata": {},
   "outputs": [
    {
     "name": "stdout",
     "output_type": "stream",
     "text": [
      "Balance after deposit: 2000\n",
      "Interest on current balance: 100.0\n"
     ]
    }
   ],
   "source": [
    "class SavingsAccount(Account):\n",
    "    def __init__(self, title=None, balance=0, interestRate=0):\n",
    "        super().__init__(title, balance)\n",
    "        self.interestRate = interestRate\n",
    "    \n",
    "    def interestAmount(self):\n",
    "        return (self.balance * self.interestRate / 100)\n",
    "    \n",
    "obj1 = SavingsAccount(\"Ashish\", 2000, 5)    \n",
    "print(\"Balance after deposit:\", obj1.getBalance())\n",
    "print(\"Interest on current balance:\", obj1.interestAmount())"
   ]
  }
 ],
 "metadata": {
  "kernelspec": {
   "display_name": "Python 3 (ipykernel)",
   "language": "python",
   "name": "python3"
  },
  "language_info": {
   "codemirror_mode": {
    "name": "ipython",
    "version": 3
   },
   "file_extension": ".py",
   "mimetype": "text/x-python",
   "name": "python",
   "nbconvert_exporter": "python",
   "pygments_lexer": "ipython3",
   "version": "3.9.13"
  }
 },
 "nbformat": 4,
 "nbformat_minor": 5
}
